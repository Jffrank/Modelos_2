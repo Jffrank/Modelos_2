{
 "cells": [
  {
   "cell_type": "markdown",
   "metadata": {},
   "source": [
    "<h2><center>\n",
    "# Modelos de Análisis avanzados II\n",
    "</center></h2> <h2><center>\n",
    " <img src=\"https://www.muycomputerpro.com/wp-content/uploads/2018/02/Machine-learning-in-cyber-security-770x476.jpg\" >\n",
    "\n",
    "</center></h4>\n",
    "\n",
    "Desarrollo por [Jhon Gonzalez](https://www.linkedin.com/in/jhon-franklin-gonzalez-gamboa-b6123230/)\n",
    "\n",
    "Taller 2 = Regresión Logística\n",
    "\n",
    "Universidad de los Andes\n",
    "\n",
    "Agosto 13 2018"
   ]
  },
  {
   "cell_type": "markdown",
   "metadata": {},
   "source": [
    "# Regresión logística con una perspectiva de Redes Neuronales\n",
    "\n",
    "En este ejercicio construirá un clasificador de regresión logística. En este cuaderno encontrará la guía para hacerlo desde una perspectiva de redes neuronales, ganando una intuición sobre lo que es el aprendizaje computacional y el deep learning.\n",
    "\n",
    "**Instrucciones:**\n",
    "- No utilize bucles-for/while en su código, a menos que se le pida hacerlo explícitamente.\n",
    "\n",
    "**Tras este taller usted va a ser capaz de:**\n",
    "- Construir la arquitectura general de un algoritmo de aprendizaje, incluyendo:\n",
    "    - Inicialización de parámetros\n",
    "    - Calcular la función de coste y su gradiente\n",
    "    - Utilizar un algoritmo de optimización (descenso en la dirección del gradiente, GD) \n",
    "- Reunir todas las tres funciones en un modelo principal en el orden adecuado.\n",
    "\n",
    "Manos a la obra!!"
   ]
  },
  {
   "cell_type": "markdown",
   "metadata": {},
   "source": [
    "## 1 - Paquetes ##\n",
    "\n",
    "Primero, importamos los paquetes que vamos a necesitar a lo largo de este taller. \n",
    "- [numpy](www.numpy.org) paquete básico para ciencias computacionales con Python.\n",
    "- [h5py](http://www.h5py.org) paquete para interactuar con un conjunto de datos guardado en un archivo de tipo H5.\n",
    "- [matplotlib](http://matplotlib.org) librería para graficar en Python.\n",
    "- [PIL](http://www.pythonware.com/products/pil/) y [scipy](https://www.scipy.org/) usados para probar el modelo con sus propias imagenes al final del taller"
   ]
  },
  {
   "cell_type": "code",
   "execution_count": 1,
   "metadata": {},
   "outputs": [
    {
     "name": "stderr",
     "output_type": "stream",
     "text": [
      "/Users/jfrank/anaconda3/lib/python3.6/site-packages/h5py/__init__.py:34: FutureWarning: Conversion of the second argument of issubdtype from `float` to `np.floating` is deprecated. In future, it will be treated as `np.float64 == np.dtype(float).type`.\n",
      "  from ._conv import register_converters as _register_converters\n"
     ]
    }
   ],
   "source": [
    "import numpy as np\n",
    "import matplotlib.pyplot as plt\n",
    "import h5py\n",
    "import scipy\n",
    "from PIL import Image\n",
    "from scipy import ndimage\n",
    "from lr_utils import load_dataset\n",
    "\n",
    "%matplotlib inline"
   ]
  },
  {
   "cell_type": "markdown",
   "metadata": {},
   "source": [
    "## 2 - Enunciado del problema ##\n",
    "\n",
    "**Enunciado**: El siguiente conjunto de datos está disponible (\"data.h5\") con la siguiente información:\n",
    "    - un conjunto de entrenamiento m_train con imagenes etiquetadas como gato (y=1) o no-gato (y=0)\n",
    "    - un conjunto de prueba m_test con imagenes etiquetadas como cat/gato o non-cat/no-gato\n",
    "    - cada imagen tiene dimensiones (num_px, num_px, 3) donde 3 es para los canales RGB (nótese que cada imagen es cuadrada (altura = num_px) y (ancho = num_px).\n",
    "\n",
    "Usted debe construir un algoritmo simple de reconocimiento de imagenes que pueda clasificar correctamente las imagenes como gato o no-gato.\n",
    "\n",
    "Primero, examinemos los datos. Cargue el archivo con el siguiente código."
   ]
  },
  {
   "cell_type": "code",
   "execution_count": 2,
   "metadata": {},
   "outputs": [
    {
     "data": {
      "text/plain": [
       "'/Users/jfrank/OneDrive/MIIA/4. Cuarto_Semestre/Modelos_II/Taller_2'"
      ]
     },
     "execution_count": 2,
     "metadata": {},
     "output_type": "execute_result"
    }
   ],
   "source": [
    "import os \n",
    "os.getcwd()"
   ]
  },
  {
   "cell_type": "code",
   "execution_count": 3,
   "metadata": {},
   "outputs": [],
   "source": [
    "# Carga de datos (gato/no-gato)\n",
    "train_set_x_orig, train_set_y, test_set_x_orig, test_set_y, classes = load_dataset()\n",
    "clases=[\"no-gato\", \"gato\"]"
   ]
  },
  {
   "cell_type": "markdown",
   "metadata": {},
   "source": [
    "Comprobamos las dimensiones de una observación"
   ]
  },
  {
   "cell_type": "code",
   "execution_count": 4,
   "metadata": {},
   "outputs": [
    {
     "data": {
      "text/plain": [
       "(64, 64, 3)"
      ]
     },
     "execution_count": 4,
     "metadata": {},
     "output_type": "execute_result"
    }
   ],
   "source": [
    "train_set_x_orig[0].shape"
   ]
  },
  {
   "cell_type": "markdown",
   "metadata": {},
   "source": [
    "Añadimos \"_orig\" al final de los datos de entrenamiento y prueba porque vamos a pre-procesarlos. Luego de esto, vamos a obtener un train_set_x y un test_set_x (nótese que las etiquetas de train_set_y y test_set_y no necesitan ningún pre-procesamiento).\n",
    "\n",
    "Cada observación (línea) del train_set_x_orig y del test_set_x_orig es un arreglo representando una imagen. Se puede visualizar cada observación mediante el siguiente código. Puede cambiar el valor del `indice` para visualizar imagenes distintas. "
   ]
  },
  {
   "cell_type": "code",
   "execution_count": 5,
   "metadata": {},
   "outputs": [
    {
     "name": "stdout",
     "output_type": "stream",
     "text": [
      "La imagen #0, es un 'no-gato'\n"
     ]
    },
    {
     "data": {
      "image/png": "[encoded data removed]",
      "text/plain": [
       "<matplotlib.figure.Figure at 0x18112d0dd8>"
      ]
     },
     "metadata": {},
     "output_type": "display_data"
    }
   ],
   "source": [
    "# Ejemplo de una imagen\n",
    "indice = 0\n",
    "plt.imshow(train_set_x_orig[indice])\n",
    "print (\"La imagen #\" + str(indice) + \", es un '\" + str(clases[np.squeeze(train_set_y[:, indice])]) + \"'\" )"
   ]
  },
  {
   "cell_type": "markdown",
   "metadata": {},
   "source": [
    "Muchos fallos/bugs del código en deep learning ocurren por tener dimensiones de la matriz/vector que no encajan. Si puede mantener las dimensiones correctas podrá evitar tener que dedicar tiempo a corregir estos fallos. \n",
    "\n",
    "**Ejercicio:** Encuentre los valores para:\n",
    "    - m_train (número de ejemplos de entrenamiento)\n",
    "    - m_test (número de ejemplos de prueba)\n",
    "    - num_px (= altura = ancho de la imagen)\n",
    "Recuerde que `train_set_x_orig` es un arreglo numpy de dimensiones (m_train, num_px, num_px, 3). De esta manera, puede acceder a `m_train` escribiendo `train_set_x_orig.shape[0]`."
   ]
  },
  {
   "cell_type": "code",
   "execution_count": 6,
   "metadata": {
    "scrolled": true
   },
   "outputs": [
    {
     "name": "stdout",
     "output_type": "stream",
     "text": [
      "Número de ejemplos de entrenamiento: m_train = 209\n",
      "Número de ejemplos de prueba: m_test = 50\n",
      "Altura/Ancho de cada imagen: num_px = 64\n",
      "Cada imagen es de tamaño: (64, 64, 3)\n",
      "Dimensión del train_set_x: (209, 64, 64, 3)\n",
      "Dimensión del train_set_y: (1, 209)\n",
      "Dimensión del test_set_x: (50, 64, 64, 3)\n",
      "Dimensión del test_set_y: (1, 50)\n"
     ]
    }
   ],
   "source": [
    "### EMPIEZE EL CÓDIGO AQUÍ ### (≈ 3 líneas de código)\n",
    "m_train = train_set_x_orig.shape[0]\n",
    "m_test = test_set_x_orig.shape[0]\n",
    "num_px = train_set_x_orig.shape[1]\n",
    "### TERMINE EL CÓDIGO AQUÍ ###\n",
    "\n",
    "print (\"Número de ejemplos de entrenamiento: m_train = \" + str(m_train))\n",
    "print (\"Número de ejemplos de prueba: m_test = \" + str(m_test))\n",
    "print (\"Altura/Ancho de cada imagen: num_px = \" + str(num_px))\n",
    "\n",
    "print (\"Cada imagen es de tamaño: (\" + str(num_px) + \", \" + str(num_px) + \", 3)\")\n",
    "print (\"Dimensión del train_set_x: \" + str(train_set_x_orig.shape))\n",
    "print (\"Dimensión del train_set_y: \" + str(train_set_y.shape))\n",
    "print (\"Dimensión del test_set_x: \" + str(test_set_x_orig.shape))\n",
    "print (\"Dimensión del test_set_y: \" + str(test_set_y.shape))"
   ]
  },
  {
   "cell_type": "markdown",
   "metadata": {},
   "source": [
    "**Salida esperada para m_train, m_test y num_px**: \n",
    "<table style=\"width:15%\">\n",
    "  <tr>\n",
    "    <td>**m_train**</td>\n",
    "    <td> 209 </td> \n",
    "  </tr>\n",
    "  \n",
    "  <tr>\n",
    "    <td>**m_test**</td>\n",
    "    <td> 50 </td> \n",
    "  </tr>\n",
    "  \n",
    "  <tr>\n",
    "    <td>**num_px**</td>\n",
    "    <td> 64 </td> \n",
    "  </tr>\n",
    "  \n",
    "</table>\n"
   ]
  },
  {
   "cell_type": "markdown",
   "metadata": {},
   "source": [
    "Es recomendable ahora re-dimensionar las imagenes de tamaño (num_px, num_px, 3) en un arreglo numpy de dimensión (num_px $*$ num_px $*$ 3, 1). Luego, los conjuntos de entrenamiento y prueba serán un arreglo numpy donde cada columna representa una imagen (aplanada). Deberían haber m_train y m_test columnas.\n",
    "\n",
    "**Ejercicio:** Re-dimensione los conjuntos de datos de entrenamiento y prueba para que las imagenes de tamaño (num_px, num_px, 3) sean aplanadas en vectores de dimensión (num\\_px $*$ num\\_px $*$ 3, 1).\n",
    "\n",
    "Ayuda. Cuando se quiere aplanar una matriz X de dimensión (a,b,c,d) en una matriz X_flatten de dimensión (b$*$c$*$d, a) se puede usar: \n",
    "```python\n",
    "X_flatten = X.reshape(X.shape[0], -1).T      # X.T es la transpuesta de X\n",
    "```"
   ]
  },
  {
   "cell_type": "code",
   "execution_count": 7,
   "metadata": {},
   "outputs": [
    {
     "name": "stdout",
     "output_type": "stream",
     "text": [
      "Dimensión del train_set_x_flatten: (12288, 209)\n",
      "Dimensión del train_set_y: (1, 209)\n",
      "Dimensión del test_set_x_flatten: (12288, 50)\n",
      "Dimensión del test_set_y: (1, 50)\n",
      "Chequeo luego del re-dimensionamiento: [17 31 56 22 33]\n"
     ]
    }
   ],
   "source": [
    "# Re-dimensione los ejemplos de entrenamiento y prueba\n",
    "\n",
    "### EMPIEZE EL CÓDIGO AQUÍ ### (≈ 2 líneas de código)\n",
    "train_set_x_flatten = train_set_x_orig.reshape(train_set_x_orig.shape[0], -1).T\n",
    "test_set_x_flatten = test_set_x_orig.reshape(test_set_x_orig.shape[0], -1).T\n",
    "### TERMINE EL CÓDIGO AQUÍ ###\n",
    "\n",
    "print (\"Dimensión del train_set_x_flatten: \" + str(train_set_x_flatten.shape))\n",
    "print (\"Dimensión del train_set_y: \" + str(train_set_y.shape))\n",
    "print (\"Dimensión del test_set_x_flatten: \" + str(test_set_x_flatten.shape))\n",
    "print (\"Dimensión del test_set_y: \" + str(test_set_y.shape))\n",
    "print (\"Chequeo luego del re-dimensionamiento: \" + str(train_set_x_flatten[0:5,0]))"
   ]
  },
  {
   "cell_type": "markdown",
   "metadata": {},
   "source": [
    "**Salida esperada**: \n",
    "\n",
    "<table style=\"width:55%\">\n",
    "  <tr>\n",
    "    <td>**Dimensión train_set_x_flatten**</td>\n",
    "    <td> (12288, 209)</td> \n",
    "  </tr>\n",
    "  <tr>\n",
    "    <td>**Dimensión train_set_y**</td>\n",
    "    <td>(1, 209)</td> \n",
    "  </tr>\n",
    "  <tr>\n",
    "    <td>**Dimensión test_set_x_flatten**</td>\n",
    "    <td>(12288, 50)</td> \n",
    "  </tr>\n",
    "  <tr>\n",
    "    <td>**Dimensión test_set_y**</td>\n",
    "    <td>(1, 50)</td> \n",
    "  </tr>\n",
    "  <tr>\n",
    "  <td>**Chequeo tras el re-dimensionamiento**</td>\n",
    "  <td>[17 31 56 22 33]</td> \n",
    "  </tr>\n",
    "</table>"
   ]
  },
  {
   "cell_type": "markdown",
   "metadata": {},
   "source": [
    "Las imagenes a color son comúnmente representadas mediante los tres canales rojo, verde y azul (RGB) para cada pixel, de tal manera que a cada pixel le corresponde un vector de tres números en el rango de 0 a 255.\n",
    "\n",
    "Un paso muy común en el pre-procesamiento de datos en machine learning es el de estandarizar el conjunto de datos multivariado, es decir, restando la media de cada vector a cada ejemplo, y dividiendo por la desviación estandar del vector. En este caso del tratamiento de imagenes, es más simple y conveniente tan solo dividir todas las filas del conjunto de datos por 255 (el valor máximo de un canal RGB).\n",
    "\n",
    "<!-- Durante el entrenamiento del modelo, se multiplican pesos y se suman sesgos a algunos inputs iniciales para observar activaciones neuronales. Luego se retro-propaga a partir de los gradientes para entrenar el modelo. Pero es importante que cada patrón del input tenga un rango similar para que los gradientes no exploten. Más adelante se profundizará en esto. !--> \n",
    "\n",
    "Normalizemos los datos."
   ]
  },
  {
   "cell_type": "code",
   "execution_count": 8,
   "metadata": {},
   "outputs": [],
   "source": [
    "train_set_x = train_set_x_flatten/255.\n",
    "test_set_x = test_set_x_flatten/255."
   ]
  },
  {
   "cell_type": "markdown",
   "metadata": {},
   "source": [
    "<font color='blue'>\n",
    "**Recapitulemos:**\n",
    "\n",
    "Pasos comunes para el pre-procesamiento de un nuevo conjunto de datos:\n",
    "- Examinar las dimensiones del problema (m_train, m_test, num_px, ...)\n",
    "- Re-dimensionar los conjuntos de datos para que cada ejemplo sea un vector de tamaño (num_px \\* num_px \\* 3, 1)\n",
    "- Normalizar o estandarizar los datos"
   ]
  },
  {
   "cell_type": "markdown",
   "metadata": {},
   "source": [
    "## 3 - Arquitectura general de un algoritmo de aprendizaje ##\n",
    "\n",
    "Llegó el momento de diseñar un algoritmo simple para distinguir imagenes de gatos y de aquello que no son gatos.\n",
    "\n",
    "Debe constuir un modelos de regresión logística, desde una perspectiva de Redes Neuronales.\n",
    "\n",
    "**Formulación del algoritmo**:\n",
    "\n",
    "Para un ejemplo $x^{(i)}$:\n",
    "$$z^{(i)} = w^T x^{(i)} + b \\tag{1}$$\n",
    "$$\\hat{y}^{(i)} = a^{(i)} = sigmoide(z^{(i)})\\tag{2}$$ \n",
    "$$ \\mathcal{L}(a^{(i)}, y^{(i)}) =  - y^{(i)}  \\log(a^{(i)}) - (1-y^{(i)} )  \\log(1-a^{(i)})\\tag{3}$$\n",
    "\n",
    "El coste se calcula sumando sobre todos los ejemplos de entrenamiento:\n",
    "$$ J = \\frac{1}{m} \\sum_{i=1}^m \\mathcal{L}(a^{(i)}, y^{(i)})\\tag{6}$$\n",
    "\n",
    "**Paso a paso**:\n",
    "En este ejercicio, se deben dar los siguientes pasos: \n",
    "    - Inicializar los parámetros del modelo\n",
    "    - Aprender los parámetros del modelo a partir de la minimización del coste  \n",
    "    - Utilizar los parámetros aprendidos para hacer predicciones (sobre el conjunto de prueba)\n",
    "    - Analizar los resultados y concluir"
   ]
  },
  {
   "cell_type": "markdown",
   "metadata": {},
   "source": [
    "## 4 - Construyendo las partes del algoritmo ## \n",
    "\n",
    "Los pasos principales para construir una red neuronal son: \n",
    "1. Definir la estructura del modelo (tal como el número de patrones en el input) \n",
    "2. Inicializar los parámetros del modelo\n",
    "3. Bucle:\n",
    "    - Calcular la pérdida actual (propagación hacia delante)\n",
    "    - Calcular el gradiente actual (retro-propagación)\n",
    "    - Actualizar los parámetros (descenso en la dirección del gradiente)\n",
    "\n",
    "Se suele construir 1-3 de manera separada e integrarlos en una función que llamaremos `model()`.\n",
    "\n",
    "### 4.1 - Funciones de ayuda\n",
    "\n",
    "**Ejercicio**: Utilizando su código del Taller_1 \"IntroPython_numpy\", implemente `sigmoid()`. Como se puede ver en la figura arriba, se debe computar $sigmoid( w^T x + b) = \\frac{1}{1 + e^{-(w^T x + b)}}$ para predecir. Para ello puede utilizar np.exp()."
   ]
  },
  {
   "cell_type": "code",
   "execution_count": 9,
   "metadata": {},
   "outputs": [],
   "source": [
    "# FUNCIÓN A CALIFICAR: sigmoid\n",
    "\n",
    "def sigmoid(z):\n",
    "    \"\"\"\n",
    "    Calcule el sigmoide de z\n",
    "    Input:\n",
    "    z: Un escalar o arreglo numpy de cualquier tamaño\n",
    "    Output:\n",
    "    s: sigmoid(z)\n",
    "    \"\"\"\n",
    "\n",
    "    ### EMPIEZE EL CÓDIGO AQUÍ ###  (≈ 1 línea de código)\n",
    "    s = 1/(1+np.exp(-(z)))\n",
    "    ### TERMINE EL CÓDIGO AQUÍ ###\n",
    "    \n",
    "    return s"
   ]
  },
  {
   "cell_type": "code",
   "execution_count": 10,
   "metadata": {
    "scrolled": true
   },
   "outputs": [
    {
     "name": "stdout",
     "output_type": "stream",
     "text": [
      "sigmoide([0, 2]) = [0.5        0.88079708]\n"
     ]
    }
   ],
   "source": [
    "print (\"sigmoide([0, 2]) = \" + str(sigmoid(np.array([0,2]))))"
   ]
  },
  {
   "cell_type": "markdown",
   "metadata": {},
   "source": [
    "**Salida esperada**: \n",
    "\n",
    "<table>\n",
    "  <tr>\n",
    "    <td>**sigmoid([0, 2])**</td>\n",
    "    <td> [ 0.5         0.88079708]</td> \n",
    "  </tr>\n",
    "</table>"
   ]
  },
  {
   "cell_type": "markdown",
   "metadata": {},
   "source": [
    "### 4.2 - Inicialización de parámteros\n",
    "\n",
    "**Ejercicio:** Implemente la inicialización de parámetros. Se tiene un vector w de ceros. Si no sabe qué función de numpy puede utilizar, puede buscar np.zeros() en la documentación de la biblioteca Numpy."
   ]
  },
  {
   "cell_type": "code",
   "execution_count": 15,
   "metadata": {},
   "outputs": [],
   "source": [
    "# FUNCIÓN A CALIFICAR: initialize_with_zeros\n",
    "\n",
    "def initialize_with_zeros(dim):\n",
    "    \"\"\"\n",
    "    Esta función crea un vector de ceros de dimensión (dim, 1) para w e inicializa b a 0.\n",
    "    Input:\n",
    "    dim: tamaño del vector w (número de parámetros para este caso)\n",
    "    Output:\n",
    "    w: vector inicializado de tamaño (dim, 1)\n",
    "    b: escalar inicializado (corresponde con el sesgo)\n",
    "    \"\"\"\n",
    "    \n",
    "    ### EMPIEZE EL CÓDIGO AQUÍ ### (≈ 1 línea de código)\n",
    "    w =  np.zeros((dim,1))\n",
    "    b = 0\n",
    "    ### TERMINE EL CÓDIGO AQUÍ ###\n",
    "\n",
    "    assert(w.shape == (dim, 1))\n",
    "    assert(isinstance(b, float) or isinstance(b, int))\n",
    "    \n",
    "    return w, b"
   ]
  },
  {
   "cell_type": "code",
   "execution_count": 16,
   "metadata": {},
   "outputs": [
    {
     "name": "stdout",
     "output_type": "stream",
     "text": [
      "w = [[0.]\n",
      " [0.]]\n",
      "b = 0\n"
     ]
    }
   ],
   "source": [
    "dim = 2\n",
    "w, b = initialize_with_zeros(dim)\n",
    "print (\"w = \" + str(w))\n",
    "print (\"b = \" + str(b))"
   ]
  },
  {
   "cell_type": "markdown",
   "metadata": {},
   "source": [
    "**Salida esperada**: \n",
    "\n",
    "\n",
    "<table style=\"width:25%\">\n",
    "    <tr>\n",
    "        <td>  ** w **  </td>\n",
    "        <td> [[ 0.]\n",
    " [ 0.]] </td>\n",
    "    </tr>\n",
    "    <tr>\n",
    "        <td>  ** b **  </td>\n",
    "        <td> 0 </td>\n",
    "    </tr>\n",
    "</table>\n",
    "\n",
    "Para inputs de imagen, w será de tamaño (num_px $\\times$ num_px $\\times$ 3, 1)."
   ]
  },
  {
   "cell_type": "markdown",
   "metadata": {},
   "source": [
    "### 4.3 - Propagación hacia delante y hacia atrás\n",
    "\n",
    "Una vez los parámetros están inicializados, se pueden implementar los pasos de propagación hacia \"delante\" y hacia \"atrás\" para el aprendizaje de los parámetros.\n",
    "\n",
    "**Ejercicio:** Implemente la función `propagate()` que calcula la función de coste y su gradiente.\n",
    "\n",
    "**Ayuda**:\n",
    "\n",
    "Propagación hacia delante:\n",
    "- Se tiene X\n",
    "- Se calcula $A = \\sigma(w^T X + b) = (a^{(1)}, a^{(2)}, ..., a^{(m-1)}, a^{(m)})$\n",
    "- Se calcula la función de coste/pérdida: $J = -\\frac{1}{m}\\sum_{i=1}^{m}y^{(i)}\\log(a^{(i)})+(1-y^{(i)})\\log(1-a^{(i)})$\n",
    "\n",
    "Se pueden usar las siguientes fórmulas: \n",
    "\n",
    "$$ \\frac{\\partial J}{\\partial w} = \\frac{1}{m}X(A-Y)^T\\tag{7}$$\n",
    "$$ \\frac{\\partial J}{\\partial b} = \\frac{1}{m} \\sum_{i=1}^m (a^{(i)}-y^{(i)})\\tag{8}$$"
   ]
  },
  {
   "cell_type": "code",
   "execution_count": 17,
   "metadata": {},
   "outputs": [],
   "source": [
    "# FUNCIÓN A CALIFICAR: propagate\n",
    "\n",
    "def propagate(w, b, X, Y):\n",
    "    \"\"\"\n",
    "    Implemente la función de coste y su gradiente para la propagación\n",
    "    Input:\n",
    "    w: pesos, un arreglo numpy de tamaño (num_px * num_px * 3, 1)\n",
    "    b: sesgo, un escalar\n",
    "    X: datos de tamaño (num_px * num_px * 3, número de ejemplos)\n",
    "    Y: vector de etiquetas observadas (0 si es no-gato, 1 si es gato) de tamaño (1, número de ejemplos)\n",
    "    Output:\n",
    "    coste: coste negativo de log-verosimilitud para la regresión logística\n",
    "    dw: gradiente de la pérdida con respecto a w, con las mismas dimensiones que w\n",
    "    db: gradiente de la pérdida con respecto a b, con las mismas dimensiones que b\n",
    "    \n",
    "    (Sugerencia: escriba su código paso a paso para la propagación. np.log(), np.dot()\n",
    "    \"\"\"\n",
    "\n",
    "    m = X.shape[1]\n",
    "    \n",
    "    # PROPAGACIÓN HACIA DELANTE \n",
    "    ### EMPIEZE EL CÓDIGO AQUÍ ### (≈ 2 líneas de código)\n",
    "    A = sigmoid(np.dot(w.T,X) + b)                         # compute la activación\n",
    "    cost = -(1/m)*np.sum(Y*np.log(A)+(1-Y)*(np.log(1-A)))  # compute el coste\n",
    "    ### TERMINE EL CÓDIGO AQUÍ ###\n",
    "    \n",
    "    # RETRO-PROPAGACIÓN (PROPAGACIÓN HACIA ATRÁS)\n",
    "    ### EMPIEZE EL CÓDIGO AQUÍ ### (≈ 2 líneas de código)\n",
    "    dw = (1/m)*np.dot(X,(A-Y).T)\n",
    "    db = (1/m)*np.sum(A-Y)\n",
    "    ### TERMINE EL CÓDIGO AQUÍ ###\n",
    "\n",
    "    assert(dw.shape == w.shape)\n",
    "    assert(db.dtype == float)\n",
    "    cost = np.squeeze(cost)\n",
    "    assert(cost.shape == ())\n",
    "    \n",
    "    grads = {\"dw\": dw,\n",
    "             \"db\": db}\n",
    "    \n",
    "    return grads, cost"
   ]
  },
  {
   "cell_type": "code",
   "execution_count": 18,
   "metadata": {},
   "outputs": [
    {
     "name": "stdout",
     "output_type": "stream",
     "text": [
      "dw = [[0.99845601]\n",
      " [2.39507239]]\n",
      "db = 0.001455578136784208\n",
      "coste = 5.801545319394553\n"
     ]
    }
   ],
   "source": [
    "w, b, X, Y = np.array([[1.],[2.]]), 2., np.array([[1.,2.,-1.],[3.,4.,-3.2]]), np.array([[1,0,1]])\n",
    "grads, cost = propagate(w, b, X, Y)\n",
    "print (\"dw = \" + str(grads[\"dw\"]))\n",
    "print (\"db = \" + str(grads[\"db\"]))\n",
    "print (\"coste = \" + str(cost))"
   ]
  },
  {
   "cell_type": "markdown",
   "metadata": {},
   "source": [
    "**Salida esperada**: \n",
    "\n",
    "<table style=\"width:50%\">\n",
    "    <tr>\n",
    "        <td>  ** dw **  </td>\n",
    "      <td> [[ 0.99845601]\n",
    "     [ 2.39507239]]</td>\n",
    "    </tr>\n",
    "    <tr>\n",
    "        <td>  ** db **  </td>\n",
    "        <td> 0.00145557813678 </td>\n",
    "    </tr>\n",
    "    <tr>\n",
    "        <td>  ** cost **  </td>\n",
    "        <td> 5.801545319394553 </td>\n",
    "    </tr>\n",
    "\n",
    "</table>"
   ]
  },
  {
   "cell_type": "markdown",
   "metadata": {},
   "source": [
    "### 4.4 - Optimización\n",
    "- Se tienen los parámetros inicializados.\n",
    "- También se tiene el código para calcular la función de coste y su gradiente.\n",
    "- Ahora se quieren actualizar los parámetros utilizando el descenso en la dirección del gradiente (GD).\n",
    "\n",
    "**Ejercicio:** Escriba la función de optimización. EL objetivo es el de aprender $w$ y $b$ minimizando la función de coste $J$. Para un parámetro $\\theta$, la regla de actualización es $ \\theta = \\theta - \\alpha \\text{ } d\\theta$, donde $\\alpha$ es la tasa de aprendizaje."
   ]
  },
  {
   "cell_type": "code",
   "execution_count": 19,
   "metadata": {},
   "outputs": [],
   "source": [
    "# FUNCIÓN A CALIFICAR: optimize\n",
    "\n",
    "def optimize(w, b, X, Y, num_iterations, learning_rate, print_cost = False):\n",
    "    \"\"\"\n",
    "    Esta función optimiza w y b implementando el algoritmo de GD\n",
    "    Input:\n",
    "    w: pesos, un arreglo numpy de tamaño (num_px * num_px * 3, 1)\n",
    "    b: sesgo, un escalar\n",
    "    X: datos de tamaño (num_px * num_px * 3, número de ejemplos)\n",
    "    Y: vector de etiquetas observadas (0 si es no-gato, 1 si es gato) de tamaño (1, número de ejemplos)\n",
    "    num_iterations: número de iteracionespara el bucle de optimización\n",
    "    learning_rate: tasa de aprendizaje para la regla de actualización del GD\n",
    "    print_cost: True para imprimir la pérdida cada 100 iteraciones\n",
    "    Output:\n",
    "    params: diccionario con los pesos w y el sesgo b\n",
    "    grads: diccionario con los gradientes de los pesos y el sesgo con respecto a la función de pérdida\n",
    "    costs: lista de todos los costes calculados durante la optimización, usados para graficar la curva de aprendizaje.\n",
    "    \n",
    "    Sugerencia: puede escribir dos pasos e iterar sobre ellos:\n",
    "        1) Calcule el coste y el gradiente de los parámetros actuales. Use propagate().\n",
    "        2) Actualize los parámetros usando la regla del GD para w y b.\n",
    "    \"\"\"\n",
    "    \n",
    "    costs = []\n",
    "    \n",
    "    for i in range(num_iterations):\n",
    "        \n",
    "        \n",
    "        # Computación del coste y el gradiente (≈ 1-4 líneas de código)\n",
    "        ### EMPIEZE EL CÓDIGO AQUÍ ### \n",
    "        grads, cost = propagate(w, b, X, Y)\n",
    "        ### TERMINE EL CÓDIGO AQUÍ ###\n",
    "        \n",
    "        # Recupere las derivadas de grads\n",
    "        dw = grads[\"dw\"]\n",
    "        db = grads[\"db\"]\n",
    "        \n",
    "        # Actualize la regla (≈ 2 líneas de código)\n",
    "        ### EMPIEZE EL CÓDIGO AQUÍ ###\n",
    "        w = w - learning_rate*dw\n",
    "        b = b - learning_rate*db\n",
    "        ### TERMINE EL CÓDIGO AQUÍ ###\n",
    "        \n",
    "        # Guarde los costes\n",
    "        if i % 100 == 0:\n",
    "            costs.append(cost)\n",
    "        \n",
    "        # Se muestra el coste cada 100 iteraciones de entrenamiento\n",
    "        if print_cost and i % 100 == 0:\n",
    "            print (\"Coste tras la iteración %i: %f\" %(i, cost))\n",
    "    \n",
    "    params = {\"w\": w,\n",
    "              \"b\": b}\n",
    "    \n",
    "    grads = {\"dw\": dw,\n",
    "             \"db\": db}\n",
    "    \n",
    "    return params, grads, costs"
   ]
  },
  {
   "cell_type": "code",
   "execution_count": 20,
   "metadata": {},
   "outputs": [
    {
     "name": "stdout",
     "output_type": "stream",
     "text": [
      "w = [[0.19033591]\n",
      " [0.12259159]]\n",
      "b = 1.9253598300845747\n",
      "dw = [[0.67752042]\n",
      " [1.41625495]]\n",
      "db = 0.21919450454067657\n"
     ]
    }
   ],
   "source": [
    "params, grads, costs = optimize(w, b, X, Y, num_iterations= 100, learning_rate = 0.009, print_cost = False)\n",
    "\n",
    "print (\"w = \" + str(params[\"w\"]))\n",
    "print (\"b = \" + str(params[\"b\"]))\n",
    "print (\"dw = \" + str(grads[\"dw\"]))\n",
    "print (\"db = \" + str(grads[\"db\"]))"
   ]
  },
  {
   "cell_type": "markdown",
   "metadata": {},
   "source": [
    "**Salida esperada**:  \n",
    "\n",
    "<table style=\"width:40%\">\n",
    "    <tr>\n",
    "       <td> **w** </td>\n",
    "       <td>[[ 0.19033591]\n",
    " [ 0.12259159]] </td>\n",
    "    </tr>\n",
    "    \n",
    "    <tr>\n",
    "       <td> **b** </td>\n",
    "       <td> 1.92535983008 </td>\n",
    "    </tr>\n",
    "    <tr>\n",
    "       <td> **dw** </td>\n",
    "       <td> [[ 0.67752042]\n",
    " [ 1.41625495]] </td>\n",
    "    </tr>\n",
    "    <tr>\n",
    "       <td> **db** </td>\n",
    "       <td> 0.219194504541 </td>\n",
    "    </tr>\n",
    "\n",
    "</table>"
   ]
  },
  {
   "cell_type": "markdown",
   "metadata": {},
   "source": [
    "**Ejercicio:** La función anterior aprende los parámetros w y b, que se pueden usar para predecir las etiquetas para el conjunto de datos X. Ahora implemente la función `predict()`. Hay dos pasos para calcular las predicciones:\n",
    "\n",
    "1. Calcule $\\hat{Y} = A = \\sigma(w^T X + b)$\n",
    "\n",
    "2. Convierta a 0 las entradas de a (si la activación es <= 0.5) o 1 (si la activación es > 0.5), guarde las predicciones en un vector `Y_prediction`. Si lo desea, puede usar un `if`/`else` en un bucle `for`, aunque también hay una manera de vectorizarlo. "
   ]
  },
  {
   "cell_type": "code",
   "execution_count": 21,
   "metadata": {},
   "outputs": [],
   "source": [
    "# FUNCIÓN A CALIFICAR: predict\n",
    "\n",
    "def predict(w, b, X):\n",
    "    '''\n",
    "    Prediga si una etiqueta es 0 o 1 usando los parámetros de regresión logística aprendidos (w, b)\n",
    "    Input:\n",
    "    w: pesos, un arreglo numpy de tamaño (num_px * num_px * 3, 1)\n",
    "    b: sesgo, un escalar\n",
    "    X: datos de tamaño (num_px * num_px * 3, número de ejemplos)\n",
    "    Output:\n",
    "    Y_prediction: vector con todas las predicciones (0/1) para los ejemplos en X\n",
    "    '''\n",
    "    \n",
    "    m = X.shape[1]\n",
    "    Y_prediction = np.zeros((1,m))\n",
    "    w = w.reshape(X.shape[0], 1)\n",
    "    \n",
    "    # Compute el vector \"A\" prediciendo las probabilidades de que la imagen contenga un gato\n",
    "    ### EMPIEZE EL CÓDIGO AQUÍ ### (≈ 1 línea de código)\n",
    "    A = sigmoid(np.dot(w.T,X)+b)\n",
    "    ### TERMINE EL CÓDIGO AQUÍ ###\n",
    "    \n",
    "    for i in range(A.shape[1]):\n",
    "        \n",
    "        # Convierta las probabilidades A[0,i] a predicciones p[0,i]\n",
    "        ### EMPIEZE EL CÓDIGO AQUÍ ### (≈ 1-4 líneas de código)\n",
    "        if A[0,i]>0.5:\n",
    "            Y_prediction[0,i]= 1\n",
    "        else:\n",
    "            Y_prediction[0,i]= 0\n",
    "        ### TERMINE EL CÓDIGO AQUÍ ###\n",
    "    \n",
    "    assert(Y_prediction.shape == (1, m))\n",
    "    \n",
    "    return Y_prediction"
   ]
  },
  {
   "cell_type": "code",
   "execution_count": 22,
   "metadata": {},
   "outputs": [
    {
     "name": "stdout",
     "output_type": "stream",
     "text": [
      "predicciones = [[1. 1. 0.]]\n"
     ]
    }
   ],
   "source": [
    "w = np.array([[0.1124579],[0.23106775]])\n",
    "b = -0.3\n",
    "X = np.array([[1.,-1.1,-3.2],[1.2,2.,0.1]])\n",
    "print (\"predicciones = \" + str(predict(w, b, X)))"
   ]
  },
  {
   "cell_type": "markdown",
   "metadata": {},
   "source": [
    "**Salida esperada**: \n",
    "\n",
    "<table style=\"width:30%\">\n",
    "    <tr>\n",
    "         <td>\n",
    "             **predicciones**\n",
    "         </td>\n",
    "          <td>\n",
    "            [[ 1.  1.  0.]]\n",
    "         </td>  \n",
    "   </tr>\n",
    "\n",
    "</table>\n"
   ]
  },
  {
   "cell_type": "markdown",
   "metadata": {},
   "source": [
    "<font color='blue'>\n",
    "**Recapitulemos:**\n",
    "Se han implementado varias funciones:\n",
    "- Inicialización de (w,b)\n",
    "- Optimización iterativa de la pérdida para aprender los parametros (w,b):\n",
    "    - computando el coste y su gradiente \n",
    "    - actualizando los parametros usando el GD\n",
    "- Se utilizan los parámetros aprendidos (w,b) para predecir las etiquetas para un conjunto dado de ejemplos"
   ]
  },
  {
   "cell_type": "markdown",
   "metadata": {},
   "source": [
    "## 5 - Fusione todas las funciones ##\n",
    "\n",
    "Ahora debe construir el modelo global, estructurando todos los bloques que ha programado arriba.\n",
    "\n",
    "**Ejercicio:** Implemente la función madre. Use la siguiente notación:\n",
    "    - Y_prediction_test para las predicciones sobre el conjunto de prueba\n",
    "    - Y_prediction_train para las predicciones sobre el conjunto de entrenamiento\n",
    "    - w, costs, grads para las salidas de optimize()"
   ]
  },
  {
   "cell_type": "code",
   "execution_count": 23,
   "metadata": {},
   "outputs": [],
   "source": [
    "# FUNCIÓN A CALIFICAR: model\n",
    "\n",
    "def model(X_train, Y_train, X_test, Y_test, num_iterations = 2000, learning_rate = 0.005, print_cost = False):\n",
    "    \"\"\"\n",
    "    Construye el modelo de regresión logística llamando las funciones implementadas anteriormente\n",
    "    Input:\n",
    "    X_train: conjunto de entrenamiento con dimensiones (num_px * num_px * 3, m_train)\n",
    "    Y_train: vector con las etiquetas de entrenamiento con dimensiones (1, m_train)\n",
    "    X_test: conjunto de prueba con dimensiones (num_px * num_px * 3, m_test)\n",
    "    Y_test: vector con las etiquetas de prueba con dimensiones (1, m_test)\n",
    "    num_iterations: (hiper-parámetro) número de iteracionespara para optimizar los parámetros\n",
    "    learning_rate: (hiper-parámetro) tasa de aprendizaje para la regla de optimize()\n",
    "    print_cost: True para imprimir la pérdida cada 100 iteraciones\n",
    "    Output:\n",
    "    d: diccionario con la información sobre el modelo.\n",
    "    \"\"\"\n",
    "    \n",
    "    ### EMPIEZE EL CÓDIGO AQUÍ ###\n",
    "    \n",
    "    # Inicialize los parametros con ceros (≈ 1 línea de código)\n",
    "    w, b = initialize_with_zeros(X_train.shape[0])\n",
    "\n",
    "    # Descenso en la dirección del gradiente (GD) (≈ 1 línea de código)\n",
    "    parameters, grads, costs = optimize(w, b, X_train, Y_train, num_iterations = num_iterations, learning_rate = learning_rate, print_cost = True)\n",
    "    #optimize(w, b, X, Y, num_iterations= 100, learning_rate = 0.009, print_cost = False)\n",
    "    \n",
    "    # Recupere los parámetros w y b del diccionario \"parameters\"\n",
    "    w = parameters[\"w\"]\n",
    "    b = parameters[\"b\"]\n",
    "    \n",
    "    # Prediga los ejemplos de prueba y entrenamiento (≈ 2 líneas de código)\n",
    "    Y_prediction_test = predict(w,b, X_test)\n",
    "    Y_prediction_train = predict(w,b, X_train)\n",
    "\n",
    "    ### TERMINE EL CÓDIGO AQUÍ ###\n",
    "\n",
    "    # Imprima los errores de entrenamiento y prueba\n",
    "    print(\"Precisión de entrenamiento: {} %\".format(100 - np.mean(np.abs(Y_prediction_train - Y_train)) * 100))\n",
    "    print(\"Precisión de prueba: {} %\".format(100 - np.mean(np.abs(Y_prediction_test - Y_test)) * 100))\n",
    "\n",
    "    \n",
    "    d = {\"Costes\": costs,\n",
    "         \"Prediccion_prueba\": Y_prediction_test, \n",
    "         \"Prediccion_entrenamiento\" : Y_prediction_train, \n",
    "         \"w\" : w, \n",
    "         \"b\" : b,\n",
    "         \"Tasa de aprendizaje\" : learning_rate,\n",
    "         \"Num_iteraciones\": num_iterations}\n",
    "    \n",
    "    return d"
   ]
  },
  {
   "cell_type": "markdown",
   "metadata": {},
   "source": [
    "Run the following cell to train your model."
   ]
  },
  {
   "cell_type": "code",
   "execution_count": 24,
   "metadata": {},
   "outputs": [
    {
     "name": "stdout",
     "output_type": "stream",
     "text": [
      "Coste tras la iteración 0: 0.693147\n",
      "Coste tras la iteración 100: 0.584508\n",
      "Coste tras la iteración 200: 0.466949\n",
      "Coste tras la iteración 300: 0.376007\n",
      "Coste tras la iteración 400: 0.331463\n",
      "Coste tras la iteración 500: 0.303273\n",
      "Coste tras la iteración 600: 0.279880\n",
      "Coste tras la iteración 700: 0.260042\n",
      "Coste tras la iteración 800: 0.242941\n",
      "Coste tras la iteración 900: 0.228004\n",
      "Coste tras la iteración 1000: 0.214820\n",
      "Coste tras la iteración 1100: 0.203078\n",
      "Coste tras la iteración 1200: 0.192544\n",
      "Coste tras la iteración 1300: 0.183033\n",
      "Coste tras la iteración 1400: 0.174399\n",
      "Coste tras la iteración 1500: 0.166521\n",
      "Coste tras la iteración 1600: 0.159305\n",
      "Coste tras la iteración 1700: 0.152667\n",
      "Coste tras la iteración 1800: 0.146542\n",
      "Coste tras la iteración 1900: 0.140872\n",
      "Precisión de entrenamiento: 99.04306220095694 %\n",
      "Precisión de prueba: 70.0 %\n"
     ]
    }
   ],
   "source": [
    "d = model(train_set_x, train_set_y, test_set_x, test_set_y, num_iterations = 2000, learning_rate = 0.005, print_cost = True)"
   ]
  },
  {
   "cell_type": "markdown",
   "metadata": {},
   "source": [
    "**Salida esperada**: \n",
    "\n",
    "<table style=\"width:50%\"> \n",
    "\n",
    "    <tr>\n",
    "        <td> **Coste tras la iteración 0 **  </td> \n",
    "        <td> 0.693147 </td>\n",
    "    </tr>\n",
    "      <tr>\n",
    "        <td> <center> $\\vdots$ </center> </td> \n",
    "        <td> <center> $\\vdots$ </center> </td> \n",
    "    </tr>  \n",
    "    <tr>\n",
    "        <td> **Precisión de entrenamiento**  </td> \n",
    "        <td> 99.04306220095694 % </td>\n",
    "    </tr>\n",
    "\n",
    "    <tr>\n",
    "        <td>**Precisión de prueba** </td> \n",
    "        <td> 70.0 % </td>\n",
    "    </tr>\n",
    "</table> \n",
    "\n",
    "\n"
   ]
  },
  {
   "cell_type": "markdown",
   "metadata": {},
   "source": [
    "**Nota**: La precisión de entrenamiento es cercana al 100%. Esto es una buena señal de que el modelo está aprendiendo, ya que muestra capacidad suficiente para ajustarse a los datos de entrenamiento. Por el otro lado, el error de prueba es del 70%. Este resultado no está mal tomando en cuenta que es un modelo bastante simple, dado el conjunto de datos que se ha usado, el cual es relativamente pequeño, y que el modelo de regresión logística es un calsificador lineal. La próxima semana veremos un clasificador más complejo, y que permitirá obtener mejores resultados. \n",
    "\n",
    "Nótese también que el modelo se está sobre-ajustando a los datos de entrenamiento. Más adelante veremos cómo se puede reducir este sobre-ajuste (\"overfitting\"), por ejemplo mediante regularización. A continuación puede examinar las predicciones de las imagenes de prueba."
   ]
  },
  {
   "cell_type": "code",
   "execution_count": 25,
   "metadata": {},
   "outputs": [
    {
     "name": "stdout",
     "output_type": "stream",
     "text": [
      "Para y = 1, el modelo dice que es una imagen de un \"no-gato\".\n"
     ]
    },
    {
     "data": {
      "image/png": "[encoded data removed]",
      "text/plain": [
       "<matplotlib.figure.Figure at 0x1811aa20b8>"
      ]
     },
     "metadata": {},
     "output_type": "display_data"
    }
   ],
   "source": [
    "# Ejemplo de una imagen mal clasificada.\n",
    "index = 6\n",
    "plt.imshow(test_set_x[:,index].reshape((num_px, num_px, 3)))\n",
    "clase=clases[int(d[\"Prediccion_prueba\"][0,index])]\n",
    "print (\"Para y = \" + str(test_set_y[0,index]) + \", el modelo dice que es una imagen de un \\\"\" + clase +  \"\\\".\")"
   ]
  },
  {
   "cell_type": "markdown",
   "metadata": {},
   "source": [
    "Grafiquemos la función de pérdida y los gradientes."
   ]
  },
  {
   "cell_type": "code",
   "execution_count": 26,
   "metadata": {},
   "outputs": [
    {
     "data": {
      "image/png": "[encoded data removed]",
      "text/plain": [
       "<matplotlib.figure.Figure at 0x1811a31ef0>"
      ]
     },
     "metadata": {},
     "output_type": "display_data"
    }
   ],
   "source": [
    "# Gráfica de la curva de aprendizaje (con costes)\n",
    "costes = np.squeeze(d['Costes'])\n",
    "plt.plot(costes)\n",
    "plt.ylabel('coste')\n",
    "plt.xlabel('iteraciones (en cientos)')\n",
    "plt.title(\"Tasa de aprendizaje =\" + str(d[\"Tasa de aprendizaje\"]))\n",
    "plt.show()"
   ]
  },
  {
   "cell_type": "markdown",
   "metadata": {},
   "source": [
    "**Interpretación**:\n",
    "Se puede ver el coste decreciendo, demostrando que los parámetros están siendo aprendidos. Sin embargo, el modelo se podría entrenar aun más sobre el conjunto de entrenamiento. Intente aumentar el número de iteraciones arriba y vuelva a ejecutar el código. Podrá ver precisión del conjunto de entrnamiento aumenta, pero la del conjunto de prueba decrece. Este es evidencia del sobre-ajuste."
   ]
  },
  {
   "cell_type": "markdown",
   "metadata": {},
   "source": [
    "## 6 - Profundizando en el análisis ##\n",
    "\n",
    "Ya tienes un primer modelo de clasificación de imagenes. Analizémoslo un poco más, como por ejemplo examinando distintos valores para la tasa de aprendizaje $\\alpha$. "
   ]
  },
  {
   "cell_type": "markdown",
   "metadata": {},
   "source": [
    "#### Selección de la tasa de aprendizaje ####\n",
    "\n",
    "**Nota**:\n",
    "Para que el método del GD funcione de manera adecuada, se debe elegir la tasa de aprendiazaje de manera acertada. Esta tasa $\\alpha$  determina qué tan rápido se actualizan los parámetros. Si la tasa es muy grande se puede \"sobrepasar\" el valor óptimo. Y de manera similar, si es muy pequeña se van a necesitar muchas iteraciones para converger a los mejores valores. Por ello la importancia de tener una tase de aprendizaje bien afinada.  \n",
    "\n",
    "Ahora, comparemos la curva de aprendizaje de nuestro modelo con distintas elecciones para $\\alpha$. Ejecute el código abajo. También puede intentar con valores distintos a los tres que estamos utilizando abajo para `learning_rates` y analize los resultados. "
   ]
  },
  {
   "cell_type": "code",
   "execution_count": 27,
   "metadata": {},
   "outputs": [
    {
     "name": "stdout",
     "output_type": "stream",
     "text": [
      "La tasa de aprendizaje es: 0.004\n",
      "Coste tras la iteración 0: 0.693147\n",
      "Coste tras la iteración 100: 0.506765\n",
      "Coste tras la iteración 200: 0.442269\n",
      "Coste tras la iteración 300: 0.397201\n",
      "Coste tras la iteración 400: 0.362439\n",
      "Coste tras la iteración 500: 0.334271\n",
      "Coste tras la iteración 600: 0.310725\n",
      "Coste tras la iteración 700: 0.290608\n",
      "Coste tras la iteración 800: 0.273138\n",
      "Coste tras la iteración 900: 0.257771\n",
      "Coste tras la iteración 1000: 0.244114\n",
      "Coste tras la iteración 1100: 0.231873\n",
      "Coste tras la iteración 1200: 0.220823\n",
      "Coste tras la iteración 1300: 0.210787\n",
      "Coste tras la iteración 1400: 0.201623\n",
      "Precisión de entrenamiento: 97.12918660287082 %\n",
      "Precisión de prueba: 70.0 %\n",
      "\n",
      "-------------------------------------------------------\n",
      "\n",
      "La tasa de aprendizaje es: 0.006\n",
      "Coste tras la iteración 0: 0.693147\n",
      "Coste tras la iteración 100: 0.649811\n",
      "Coste tras la iteración 200: 0.538312\n",
      "Coste tras la iteración 300: 0.439262\n",
      "Coste tras la iteración 400: 0.349825\n",
      "Coste tras la iteración 500: 0.278498\n",
      "Coste tras la iteración 600: 0.249764\n",
      "Coste tras la iteración 700: 0.231178\n",
      "Coste tras la iteración 800: 0.215229\n",
      "Coste tras la iteración 900: 0.201339\n",
      "Coste tras la iteración 1000: 0.189110\n",
      "Coste tras la iteración 1100: 0.178249\n",
      "Coste tras la iteración 1200: 0.168533\n",
      "Coste tras la iteración 1300: 0.159788\n",
      "Coste tras la iteración 1400: 0.151873\n",
      "Precisión de entrenamiento: 98.56459330143541 %\n",
      "Precisión de prueba: 70.0 %\n",
      "\n",
      "-------------------------------------------------------\n",
      "\n",
      "La tasa de aprendizaje es: 0.005\n",
      "Coste tras la iteración 0: 0.693147\n",
      "Coste tras la iteración 100: 0.584508\n",
      "Coste tras la iteración 200: 0.466949\n",
      "Coste tras la iteración 300: 0.376007\n",
      "Coste tras la iteración 400: 0.331463\n",
      "Coste tras la iteración 500: 0.303273\n",
      "Coste tras la iteración 600: 0.279880\n",
      "Coste tras la iteración 700: 0.260042\n",
      "Coste tras la iteración 800: 0.242941\n",
      "Coste tras la iteración 900: 0.228004\n",
      "Coste tras la iteración 1000: 0.214820\n",
      "Coste tras la iteración 1100: 0.203078\n",
      "Coste tras la iteración 1200: 0.192544\n",
      "Coste tras la iteración 1300: 0.183033\n",
      "Coste tras la iteración 1400: 0.174399\n",
      "Precisión de entrenamiento: 97.60765550239235 %\n",
      "Precisión de prueba: 70.0 %\n",
      "\n",
      "-------------------------------------------------------\n",
      "\n"
     ]
    },
    {
     "data": {
      "image/png": "[encoded data removed]",
      "text/plain": [
       "<matplotlib.figure.Figure at 0x18133bc2e8>"
      ]
     },
     "metadata": {},
     "output_type": "display_data"
    }
   ],
   "source": [
    "learning_rates = [0.004, 0.006, 0.005]\n",
    "models = {}\n",
    "for i in learning_rates:\n",
    "    print (\"La tasa de aprendizaje es: \" + str(i))\n",
    "    models[str(i)] = model(train_set_x, train_set_y, test_set_x, test_set_y, num_iterations = 1500, learning_rate = i, print_cost = False)\n",
    "    print ('\\n' + \"-------------------------------------------------------\" + '\\n')\n",
    "\n",
    "for i in learning_rates:\n",
    "    plt.plot(np.squeeze(models[str(i)][\"Costes\"]), label= str(models[str(i)][\"Tasa de aprendizaje\"]))\n",
    "\n",
    "plt.ylabel('coste')\n",
    "plt.xlabel('iteraciones (en cientos)')\n",
    "\n",
    "legend = plt.legend(loc='upper center', shadow=True)\n",
    "frame = legend.get_frame()\n",
    "frame.set_facecolor('0.90')\n",
    "plt.show()"
   ]
  },
  {
   "cell_type": "markdown",
   "metadata": {},
   "source": [
    "**Discusión**: \n",
    "- Tasas diferentes obtienen costes diferentes y por lo tanto, predicciones diferentes.\n",
    "- Si la tasa es muy grande (0.01), el coste puede oscilar arriba y abajo. Hasta puede diverger, aunque en este ejemplo $\\alpha=0.01$ aun consigue un buen valor para el coste.  \n",
    "- Un coste más bajo no implica un mejor modelo. Se debe chequear si hay una posibilidad de sobre-ajuste. Esto ocurre cuando la precisión de entrenamiento es mucho mayor que la precisión de prueba.\n",
    "- En deep learning, es recomendable que se elija la tasa de aprendizaje que minimize la función de coste. Y si el modelo sobre-ajusta, se pueden probar otras técnicas (que veremos más adelante) para reducir dicho sobre-ajuste. \n"
   ]
  },
  {
   "cell_type": "markdown",
   "metadata": {},
   "source": [
    "## 7 - Pruebe con otras imagenes ##\n",
    "\n",
    "Puede utilizar imagenes propias para ver los resultados de su modelo. Para ello, agregue su(s) imagen(es) al directorio de este cuaderno en la carpeta \"images\", cambie el nombre de la(s) imagen(es) en el siguiente código, y compruebe si el algoritmo acierta (1=gato, 0=no-gato). "
   ]
  },
  {
   "cell_type": "code",
   "execution_count": 28,
   "metadata": {
    "scrolled": false
   },
   "outputs": [
    {
     "name": "stdout",
     "output_type": "stream",
     "text": [
      "y = 1, el algoritmo predice que es una imagen de un \"gato\".\n"
     ]
    },
    {
     "name": "stderr",
     "output_type": "stream",
     "text": [
      "/Users/jfrank/anaconda3/lib/python3.6/site-packages/scipy/misc/pilutil.py:482: FutureWarning: Conversion of the second argument of issubdtype from `int` to `np.signedinteger` is deprecated. In future, it will be treated as `np.int64 == np.dtype(int).type`.\n",
      "  if issubdtype(ts, int):\n",
      "/Users/jfrank/anaconda3/lib/python3.6/site-packages/scipy/misc/pilutil.py:485: FutureWarning: Conversion of the second argument of issubdtype from `float` to `np.floating` is deprecated. In future, it will be treated as `np.float64 == np.dtype(float).type`.\n",
      "  elif issubdtype(type(size), float):\n"
     ]
    },
    {
     "data": {
      "image/png": "[encoded data removed]",
      "text/plain": [
       "<matplotlib.figure.Figure at 0x1813d7b630>"
      ]
     },
     "metadata": {},
     "output_type": "display_data"
    }
   ],
   "source": [
    "### EMPIEZE EL CÓDIGO AQUÍ ### (INTRODUZCA EL NOMBRE DE SU IMAGEN) \n",
    "my_image = \"Gato_1.jpg\"   # el nombre debe coincidir con el de su imagen\n",
    "### TERMINE EL CÓDIGO AQUÍ ###\n",
    "\n",
    "# Pre-procesamos la imagen\n",
    "fname = \"images/\" + my_image\n",
    "image = np.array(ndimage.imread(fname, flatten=False))\n",
    "my_image = scipy.misc.imresize(image, size=(num_px,num_px)).reshape((1, num_px*num_px*3)).T\n",
    "my_predicted_image = predict(d[\"w\"], d[\"b\"], my_image)\n",
    "\n",
    "plt.imshow(image)\n",
    "print(\"y = \" + str(int(np.squeeze(my_predicted_image))) + \", el algoritmo predice que es una imagen de un \\\"\" + clases[int(np.squeeze(my_predicted_image))]+  \"\\\".\")"
   ]
  },
  {
   "cell_type": "markdown",
   "metadata": {},
   "source": [
    "Ahora puede intentar desarrollar su propio código modificado y compara los resultados. Intente mejorar los resultados obtenidos. Puede jugar con la tasa de aprendizaje, el número de iteraciones o distintos métodos de inicialización. También puede probar otras técnicas de pre-procesamiento, como el de estandarizar los datos, etc. \n",
    "\n",
    "<font color='blue'>\n",
    "**Comentarios finales:**\n",
    "1. Recuerde la importancia del pre-procesamiento de los datos.\n",
    "2. Hemos implementado cada función de manera separada: initialize(), propagate(), optimize(). Y luego se construye el modelo: model().\n",
    "3. La selección adecuada de la tasa de aprendizaje, al cual nos referimos como un \"hiper-parámetro\", puede hacer una gran diferencia en el algoritmo. Seguiremos viendo más ejemplos de esto en actividades futuras."
   ]
  },
  {
   "cell_type": "markdown",
   "metadata": {},
   "source": [
    "Algunas referencias:\n",
    "- http://www.wildml.com/2015/09/implementing-a-neural-network-from-scratch/\n",
    "- https://stats.stackexchange.com/questions/211436/why-do-we-normalize-images-by-subtracting-the-datasets-image-mean-and-not-the-c"
   ]
  }
 ],
 "metadata": {
  "coursera": {
   "course_slug": "neural-networks-deep-learning",
   "graded_item_id": "XaIWT",
   "launcher_item_id": "zAgPl"
  },
  "kernelspec": {
   "display_name": "Python 3",
   "language": "python",
   "name": "python3"
  },
  "language_info": {
   "codemirror_mode": {
    "name": "ipython",
    "version": 3
   },
   "file_extension": ".py",
   "mimetype": "text/x-python",
   "name": "python",
   "nbconvert_exporter": "python",
   "pygments_lexer": "ipython3",
   "version": "3.6.3"
  }
 },
 "nbformat": 4,
 "nbformat_minor": 2
}
